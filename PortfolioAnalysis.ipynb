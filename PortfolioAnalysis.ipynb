{
 "cells": [
  {
   "cell_type": "markdown",
   "id": "9bd5df8e",
   "metadata": {},
   "source": [
    "#### Import packages"
   ]
  },
  {
   "cell_type": "code",
   "execution_count": null,
   "id": "09a04610",
   "metadata": {},
   "outputs": [],
   "source": [
    "import nltk, requests, re, string, pickle, enchant\n",
    "from nltk.stem.wordnet import WordNetLemmatizer\n",
    "from nltk.corpus import twitter_samples, stopwords\n",
    "from nltk.tag import pos_tag\n",
    "from nltk.tokenize import word_tokenize\n",
    "from nltk import FreqDist, classify, NaiveBayesClassifier\n",
    "from datetime import datetime, timedelta\n",
    "\n",
    "API_URL = \"########\"\n",
    "ACCESS_TOKEN =\"########\"\n",
    "\n",
    "nltk.download('wordnet')\n",
    "nltk.download('averaged_perceptron_tagger')\n",
    "nltk.download('stopwords')\n",
    "nltk.download('punkt')"
   ]
  },
  {
   "cell_type": "markdown",
   "id": "497eaf41",
   "metadata": {},
   "source": [
    "#### Import trained model"
   ]
  },
  {
   "cell_type": "code",
   "execution_count": 11,
   "id": "359ae25a",
   "metadata": {},
   "outputs": [],
   "source": [
    "f = open('news_classifier.pickle', 'rb')\n",
    "classifier = pickle.load(f)\n",
    "f.close()"
   ]
  },
  {
   "cell_type": "markdown",
   "id": "b8a7c2ea",
   "metadata": {},
   "source": [
    "#### Check if string has numbers method"
   ]
  },
  {
   "cell_type": "code",
   "execution_count": 12,
   "id": "53026406",
   "metadata": {},
   "outputs": [],
   "source": [
    "def hasNumbers(inputString):\n",
    "    return any(char.isdigit() for char in inputString)"
   ]
  },
  {
   "cell_type": "markdown",
   "id": "d5ff59db",
   "metadata": {},
   "source": [
    "#### Remove noise method"
   ]
  },
  {
   "cell_type": "code",
   "execution_count": 13,
   "id": "72c73382",
   "metadata": {},
   "outputs": [],
   "source": [
    "def remove_noise(tweet_tokens, stop_words = ()):\n",
    "\n",
    "    cleaned_tokens = []\n",
    "\n",
    "    for token, tag in pos_tag(tweet_tokens):\n",
    "        \n",
    "        d = enchant.Dict(\"en_US\")\n",
    "        if d.check(token.lower()) != True:\n",
    "            token = \"\"\n",
    "        \n",
    "        token = re.sub('http[s]?://(?:[a-zA-Z]|[0-9]|[$-_@.&+#]|[!*\\(\\),]|'\\\n",
    "                       '(?:%[0-9a-fA-F][0-9a-fA-F]))+','', token)\n",
    "        token = re.sub(\"(@[A-Za-z0-9_]+)\",\"\", token)\n",
    "        \n",
    "        if hasNumbers(token):\n",
    "            token = \"\"\n",
    "\n",
    "        if tag.startswith(\"NN\"):\n",
    "            pos = 'n'\n",
    "        elif tag.startswith('VB'):\n",
    "            pos = 'v'\n",
    "        else:\n",
    "            pos = 'a'\n",
    "\n",
    "        lemmatizer = WordNetLemmatizer()\n",
    "        token = lemmatizer.lemmatize(token, pos)\n",
    "\n",
    "        if len(token) > 0 and token not in string.punctuation and token.lower() not in stop_words:\n",
    "            cleaned_tokens.append(token.lower())\n",
    "    return cleaned_tokens"
   ]
  },
  {
   "cell_type": "markdown",
   "id": "c2ff1d20",
   "metadata": {},
   "source": [
    "#### API Call Method"
   ]
  },
  {
   "cell_type": "code",
   "execution_count": 14,
   "id": "ff61b2e2",
   "metadata": {},
   "outputs": [],
   "source": [
    "def get_etf_news(etf):\n",
    "    query = {''}\n",
    "    response = requests.get(API_URL, params=query)\n",
    "    result = response.json()\n",
    "    if result:\n",
    "        stories = result['stories']\n",
    "        return stories\n",
    "    return []\n",
    "    "
   ]
  },
  {
   "cell_type": "markdown",
   "id": "3fdba598",
   "metadata": {},
   "source": [
    "#### Tokenize articles' description (Data cleaning) method"
   ]
  },
  {
   "cell_type": "code",
   "execution_count": 15,
   "id": "b679b624",
   "metadata": {},
   "outputs": [],
   "source": [
    "def clean_data(stories):\n",
    "    stop_words = stopwords.words('english')\n",
    "    stock_news_tokens = []\n",
    "    \n",
    "    for x in stories:\n",
    "        if x['description']:\n",
    "            temp_token = remove_noise(word_tokenize(x['description']),stop_words)\n",
    "            stock_news_tokens.append(temp_token)\n",
    "        \n",
    "        \n",
    "    return stock_news_tokens"
   ]
  },
  {
   "cell_type": "markdown",
   "id": "eb5b8e9b",
   "metadata": {},
   "source": [
    "#### Get ETF sentiment method"
   ]
  },
  {
   "cell_type": "code",
   "execution_count": 16,
   "id": "f6c3df9b",
   "metadata": {},
   "outputs": [],
   "source": [
    "def get_sentiment(etf):\n",
    "    print(f'Doing sentiment for {etf}')\n",
    "    stories = get_etf_news(etf)\n",
    "    if not stories:\n",
    "        return 0\n",
    "    stock_news_tokens = clean_data(stories)\n",
    "    positive_count = 0\n",
    "    for stock_token in stock_news_tokens:\n",
    "        sentiment = classifier.classify(dict([token, True] for token in stock_token))\n",
    "        if sentiment == \"Positive\":\n",
    "            positive_count += 1\n",
    "    \n",
    "    if(len(stock_news_tokens) == 0):\n",
    "        return 0\n",
    "    \n",
    "    sentiment_rating = ((positive_count / len(stock_news_tokens))*100)/100\n",
    "    return sentiment_rating"
   ]
  },
  {
   "cell_type": "markdown",
   "id": "f7d9c8c5",
   "metadata": {},
   "source": [
    "#### Get sector ETFs"
   ]
  },
  {
   "cell_type": "code",
   "execution_count": 19,
   "id": "d572e1c6",
   "metadata": {},
   "outputs": [
    {
     "name": "stdout",
     "output_type": "stream",
     "text": [
      "Currently checking XLU\n",
      "Doing sentiment for XLU\n",
      "Currently checking VPU\n",
      "Doing sentiment for VPU\n",
      "    ETF     Sector  Sentiment\n",
      "16  XLU  Utilities        0.5\n",
      "17  VPU  Utilities        0.0\n"
     ]
    }
   ],
   "source": [
    "sector_list = ['Utilities']\n",
    "etf_sectors_df = pd.read_csv('etf_sectors_short.csv')\n",
    "etf_list_df = etf_sectors_df[etf_sectors_df['Sector'].isin(sector_list)]\n",
    "\n",
    "ratings_list = []\n",
    "\n",
    "for index, row in etf_list_df.iterrows():\n",
    "    curr_etf = row['ETF']\n",
    "    print(f'Currently checking {curr_etf}')\n",
    "    sentiment_rating = get_sentiment(row['ETF'])\n",
    "    ratings_list.append(sentiment_rating)\n",
    "\n",
    "etf_list_df['Sentiment'] = ratings_list\n",
    "print(etf_list_df)"
   ]
  },
  {
   "cell_type": "code",
   "execution_count": 22,
   "id": "842a24f0",
   "metadata": {
    "scrolled": true
   },
   "outputs": [
    {
     "name": "stdout",
     "output_type": "stream",
     "text": [
      "XLU\n"
     ]
    }
   ],
   "source": [
    "top_etf = etf_list_df.loc[etf_list_df['Sentiment'].idxmax()]['ETF']\n",
    "print(top_etf)"
   ]
  }
 ],
 "metadata": {
  "kernelspec": {
   "display_name": "Python (sentiment-analysis)",
   "language": "python",
   "name": "twitter-sentiment-analysis"
  },
  "language_info": {
   "codemirror_mode": {
    "name": "ipython",
    "version": 3
   },
   "file_extension": ".py",
   "mimetype": "text/x-python",
   "name": "python",
   "nbconvert_exporter": "python",
   "pygments_lexer": "ipython3",
   "version": "3.8.10"
  }
 },
 "nbformat": 4,
 "nbformat_minor": 5
}
