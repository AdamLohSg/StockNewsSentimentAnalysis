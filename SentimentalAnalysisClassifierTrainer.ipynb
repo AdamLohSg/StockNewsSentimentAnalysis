{
 "cells": [
  {
   "cell_type": "markdown",
   "id": "55415e59",
   "metadata": {},
   "source": [
    "#### Import nltk packages"
   ]
  },
  {
   "cell_type": "code",
   "execution_count": 25,
   "id": "60470aac",
   "metadata": {},
   "outputs": [
    {
     "name": "stderr",
     "output_type": "stream",
     "text": [
      "[nltk_data] Downloading package wordnet to\n",
      "[nltk_data]     C:\\Users\\adam_\\AppData\\Roaming\\nltk_data...\n",
      "[nltk_data]   Package wordnet is already up-to-date!\n",
      "[nltk_data] Downloading package averaged_perceptron_tagger to\n",
      "[nltk_data]     C:\\Users\\adam_\\AppData\\Roaming\\nltk_data...\n",
      "[nltk_data]   Package averaged_perceptron_tagger is already up-to-\n",
      "[nltk_data]       date!\n",
      "[nltk_data] Downloading package stopwords to\n",
      "[nltk_data]     C:\\Users\\adam_\\AppData\\Roaming\\nltk_data...\n",
      "[nltk_data]   Package stopwords is already up-to-date!\n"
     ]
    },
    {
     "data": {
      "text/plain": [
       "True"
      ]
     },
     "execution_count": 25,
     "metadata": {},
     "output_type": "execute_result"
    }
   ],
   "source": [
    "import nltk, pickle, re, string, csv, random\n",
    "from nltk.stem.wordnet import WordNetLemmatizer\n",
    "from nltk.corpus import twitter_samples, stopwords\n",
    "from nltk.tag import pos_tag\n",
    "from nltk.tokenize import word_tokenize, TweetTokenizer\n",
    "from nltk import FreqDist, classify, NaiveBayesClassifier\n",
    "import enchant\n",
    "\n",
    "nltk.download('wordnet')\n",
    "nltk.download('averaged_perceptron_tagger')\n",
    "nltk.download('stopwords')"
   ]
  },
  {
   "cell_type": "markdown",
   "id": "67d15fd9",
   "metadata": {},
   "source": [
    "#### Noise removal method"
   ]
  },
  {
   "cell_type": "code",
   "execution_count": 37,
   "id": "78064c65",
   "metadata": {},
   "outputs": [],
   "source": [
    "def hasNumbers(inputString):\n",
    "    return any(char.isdigit() for char in inputString)"
   ]
  },
  {
   "cell_type": "code",
   "execution_count": 38,
   "id": "f109d508",
   "metadata": {},
   "outputs": [],
   "source": [
    "def remove_noise(tweet_tokens, stop_words = ()):\n",
    "\n",
    "    cleaned_tokens = []\n",
    "\n",
    "    for token, tag in pos_tag(tweet_tokens):\n",
    "        \n",
    "        d = enchant.Dict(\"en_US\")\n",
    "        if d.check(token.lower()) != True:\n",
    "            token = \"\"\n",
    "            \n",
    "        token = re.sub('http[s]?://(?:[a-zA-Z]|[0-9]|[$-_@.&+#]|[!*\\(\\),]|'\\\n",
    "                       '(?:%[0-9a-fA-F][0-9a-fA-F]))+','', token)\n",
    "        \n",
    "        token = re.sub(\"(@[A-Za-z0-9_]+)\",\"\", token)\n",
    "        \n",
    "        \n",
    "        if hasNumbers(token):\n",
    "            token = \"\"\n",
    "\n",
    "        if tag.startswith(\"NN\"):\n",
    "            pos = 'n'\n",
    "        elif tag.startswith('VB'):\n",
    "            pos = 'v'\n",
    "        else:\n",
    "            pos = 'a'\n",
    "\n",
    "        lemmatizer = WordNetLemmatizer()\n",
    "        token = lemmatizer.lemmatize(token, pos)\n",
    "\n",
    "        if len(token) > 0 and token not in string.punctuation and token.lower() not in stop_words:\n",
    "            cleaned_tokens.append(token.lower())\n",
    "    return cleaned_tokens"
   ]
  },
  {
   "cell_type": "markdown",
   "id": "45f37760",
   "metadata": {},
   "source": [
    "#### Get texts from csv"
   ]
  },
  {
   "cell_type": "code",
   "execution_count": 39,
   "id": "33008ff2",
   "metadata": {},
   "outputs": [],
   "source": [
    "positive_news = []\n",
    "negative_news = []\n",
    "neautral_news = []\n",
    "with open(\"compiled_data_encoded.csv\", encoding=\"utf-8\") as f:\n",
    "    reader = csv.reader(f)\n",
    "\n",
    "    header = next(reader)\n",
    "    found = False\n",
    "    for line in reader:\n",
    "        if line[0] == \"positive\":\n",
    "            positive_news.append(line[1])\n",
    "        elif line[0] == \"negative\":\n",
    "            negative_news.append(line[1])\n",
    "        else:\n",
    "            neautral_news.append(line[1])"
   ]
  },
  {
   "cell_type": "markdown",
   "id": "ea3ba940",
   "metadata": {},
   "source": [
    "#### Tokenize and clean words"
   ]
  },
  {
   "cell_type": "code",
   "execution_count": 40,
   "id": "b9c8a846",
   "metadata": {},
   "outputs": [],
   "source": [
    "tknzr = TweetTokenizer()\n",
    "stop_words = stopwords.words('english')\n",
    "\n",
    "positive_cleaned_news_tokens = []\n",
    "negative_cleaned_news_tokens = []\n",
    "neutral_cleaned_news_tokens = []\n",
    "\n",
    "for x in positive_news:\n",
    "    positive_cleaned_news_tokens.append(remove_noise(tknzr.tokenize(x), stop_words))\n",
    "    \n",
    "for y in negative_news:\n",
    "    negative_cleaned_news_tokens.append(remove_noise(tknzr.tokenize(y), stop_words))\n",
    "    \n",
    "for z in neautral_news:\n",
    "    neutral_cleaned_news_tokens.append(remove_noise(tknzr.tokenize(z), stop_words))"
   ]
  },
  {
   "cell_type": "markdown",
   "id": "6091b652",
   "metadata": {},
   "source": [
    "#### Convert tokens to dictionary"
   ]
  },
  {
   "cell_type": "code",
   "execution_count": 41,
   "id": "6b5725b5",
   "metadata": {},
   "outputs": [],
   "source": [
    "def get_news_for_model(cleaned_tokens_list):\n",
    "    for news_tokens in cleaned_tokens_list:\n",
    "        yield dict([token, True] for token in news_tokens)\n",
    "        \n",
    "positive_tokens_for_model = get_news_for_model(positive_cleaned_news_tokens)\n",
    "negative_tokens_for_model = get_news_for_model(negative_cleaned_news_tokens)\n",
    "neutral_tokens_for_model = get_news_for_model(neutral_cleaned_news_tokens)"
   ]
  },
  {
   "cell_type": "markdown",
   "id": "5c12c483",
   "metadata": {},
   "source": [
    "#### Splitting the Dataset for Training and Testing the Model"
   ]
  },
  {
   "cell_type": "code",
   "execution_count": 42,
   "id": "91c9ea24",
   "metadata": {},
   "outputs": [],
   "source": [
    "positive_dataset = [(news_dict, \"Positive\") for news_dict in positive_tokens_for_model]\n",
    "negative_dataset = [(news_dict, \"Negative\") for news_dict in negative_tokens_for_model]\n",
    "neutral_dataset = [(news_dict, \"Neutral\") for news_dict in neutral_tokens_for_model]\n",
    "\n",
    "dataset = positive_dataset + negative_dataset + neutral_dataset\n",
    "random.shuffle(dataset)\n",
    "\n",
    "train_data = dataset[:7446]\n",
    "test_data = dataset[7446:]"
   ]
  },
  {
   "cell_type": "markdown",
   "id": "f050e2c4",
   "metadata": {},
   "source": [
    "#### Building and testing the model"
   ]
  },
  {
   "cell_type": "code",
   "execution_count": 43,
   "id": "dea13def",
   "metadata": {},
   "outputs": [
    {
     "name": "stdout",
     "output_type": "stream",
     "text": [
      "Accuracy is: 0.6949843260188088\n",
      "Most Informative Features\n",
      "                   short = True           Negati : Neutra =    163.4 : 1.0\n",
      "                     ... = True           Negati : Neutra =    113.4 : 1.0\n",
      "                   break = True           Positi : Neutra =     49.9 : 1.0\n",
      "                building = True           Neutra : Negati =     30.5 : 1.0\n",
      "             headquarter = True           Neutra : Positi =     28.8 : 1.0\n",
      "                  design = True           Neutra : Negati =     28.6 : 1.0\n",
      "                decrease = True           Negati : Positi =     27.4 : 1.0\n",
      "                    stop = True           Positi : Neutra =     24.7 : 1.0\n",
      "                  weekly = True           Negati : Neutra =     23.8 : 1.0\n",
      "                 acquire = True           Neutra : Negati =     22.7 : 1.0\n",
      "                   house = True           Neutra : Positi =     21.4 : 1.0\n",
      "                  relate = True           Neutra : Positi =     21.4 : 1.0\n",
      "             transaction = True           Neutra : Negati =     20.7 : 1.0\n",
      "                   watch = True           Positi : Neutra =     20.5 : 1.0\n",
      "           approximately = True           Neutra : Positi =     20.2 : 1.0\n",
      "None\n"
     ]
    }
   ],
   "source": [
    "classifier = NaiveBayesClassifier.train(train_data)\n",
    "\n",
    "print(\"Accuracy is:\", classify.accuracy(classifier, test_data))\n",
    "\n",
    "print(classifier.show_most_informative_features(15))"
   ]
  },
  {
   "cell_type": "markdown",
   "id": "75a19df8",
   "metadata": {},
   "source": [
    "#### Saving model"
   ]
  },
  {
   "cell_type": "code",
   "execution_count": 44,
   "id": "a8c5851f",
   "metadata": {},
   "outputs": [],
   "source": [
    "f = open('news_classifier.pickle', 'wb')\n",
    "pickle.dump(classifier, f)\n",
    "f.close()"
   ]
  },
  {
   "cell_type": "code",
   "execution_count": 5,
   "id": "e496ad1a",
   "metadata": {},
   "outputs": [
    {
     "name": "stdout",
     "output_type": "stream",
     "text": [
      "y_origin = ['positive', 'positive', 'negative', 'negative', 'neutral']\n",
      "y_pred = ['positive', 'negative', 'negative', 'neutral', 'neutral']\n"
     ]
    }
   ],
   "source": [
    "y_origin = ['positive', 'positive', 'negative', 'negative', 'neutral']\n",
    "y_pred = ['positive', 'negative', 'negative', 'neutral', 'neutral']\n",
    "print(f'y_origin = {y_origin}')\n",
    "print(f'y_pred = {y_pred}')"
   ]
  },
  {
   "cell_type": "markdown",
   "id": "5aeeabd7",
   "metadata": {},
   "source": [
    "#### Confusion matrix"
   ]
  },
  {
   "cell_type": "code",
   "execution_count": 46,
   "id": "c5fe6981",
   "metadata": {},
   "outputs": [],
   "source": [
    "combined_tokens = positive_cleaned_news_tokens + negative_cleaned_news_tokens + neutral_cleaned_news_tokens\n",
    "y_pred = []\n",
    "\n",
    "for stock_token in combined_tokens:\n",
    "    y_pred.append(classifier.classify(dict([token, True] for token in stock_token)).lower())\n",
    "    \n",
    "y_origin = (['positive'] * len(positive_cleaned_news_tokens)) + (['negative'] * len(negative_cleaned_news_tokens)) + (['neutral'] * len(neutral_cleaned_news_tokens))"
   ]
  },
  {
   "cell_type": "code",
   "execution_count": 50,
   "id": "3a54cc0b",
   "metadata": {},
   "outputs": [
    {
     "data": {
      "text/plain": [
       "array([[3626,  549,  873],\n",
       "       [ 465, 1988,  257],\n",
       "       [ 115,   83, 2680]], dtype=int64)"
      ]
     },
     "execution_count": 50,
     "metadata": {},
     "output_type": "execute_result"
    }
   ],
   "source": [
    "from sklearn.metrics import confusion_matrix\n",
    "confusion_matrix(y_origin,y_pred,labels=[\"positive\", \"negative\", \"neutral\"])"
   ]
  }
 ],
 "metadata": {
  "kernelspec": {
   "display_name": "Python (sentiment-analysis)",
   "language": "python",
   "name": "twitter-sentiment-analysis"
  },
  "language_info": {
   "codemirror_mode": {
    "name": "ipython",
    "version": 3
   },
   "file_extension": ".py",
   "mimetype": "text/x-python",
   "name": "python",
   "nbconvert_exporter": "python",
   "pygments_lexer": "ipython3",
   "version": "3.8.10"
  }
 },
 "nbformat": 4,
 "nbformat_minor": 5
}
